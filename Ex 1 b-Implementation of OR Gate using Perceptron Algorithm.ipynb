{
 "cells": [
  {
   "cell_type": "code",
   "execution_count": 1,
   "id": "20a4e577-75c9-46eb-9804-ce948028468b",
   "metadata": {},
   "outputs": [
    {
     "name": "stdout",
     "output_type": "stream",
     "text": [
      "OR Gate: \n",
      "[0 0] 0\n",
      "[0 1] 1\n",
      "[1 0] 1\n",
      "[1 1] 1\n",
      "Initial Weights:\n",
      "[[0.]\n",
      " [0.]] 0\n",
      "Trained Weights:\n",
      "[[0.1]\n",
      " [0.1]] 0.0\n",
      "OR Gate(predicted): \n",
      "[0 0] [0]\n",
      "[0 1] [1]\n",
      "[1 0] [1]\n",
      "[1 1] [1]\n",
      "Accuracy: 1.0\n"
     ]
    }
   ],
   "source": [
    "import numpy as np\n",
    "class Perceptron:\n",
    "    def __init__(self) -> None:\n",
    "        self.weights = np.zeros((2, 1))\n",
    "        self.bias = 0\n",
    "\n",
    "    def predict(self, x: np.array) -> np.array:\n",
    "        return np.where(np.dot(x, self.weights) + self.bias > 0, 1, 0)\n",
    "    \n",
    "    def fit(self, x: np.array, y: np.array, epoch:int = 100, learning_rate: float= 0.1) -> None:\n",
    "        for _ in range(epoch):\n",
    "            for x_i, y_i in zip(x, y):\n",
    "                y_hat = self.predict(x_i).squeeze()\n",
    "                self.weights += learning_rate * (y_i - y_hat) * x_i.reshape(-1, 1)\n",
    "                self.bias += learning_rate * (y_i - y_hat)\n",
    "\n",
    "    def score(self, x: np.array, y: np.array) -> float:\n",
    "        y_hat = self.predict(x).squeeze()\n",
    "        return np.mean(y_hat == y)\n",
    "    \n",
    "if __name__ == '__main__':\n",
    "    X = np.array([[0, 0], [0, 1], [1, 0], [1, 1]])\n",
    "    y = np.array([0, 1, 1, 1])\n",
    "\n",
    "    perceptron = Perceptron()\n",
    "    print(\"OR Gate: \")\n",
    "    for x, y_i in zip(X, y):\n",
    "        print(x, y_i)\n",
    "    print(\"Initial Weights:\")\n",
    "    print(perceptron.weights, perceptron.bias)\n",
    "\n",
    "    perceptron.fit(X, y, epoch=3)\n",
    "\n",
    "    print(\"Trained Weights:\")\n",
    "    print(perceptron.weights, perceptron.bias)\n",
    "\n",
    "    print(\"OR Gate(predicted): \")\n",
    "    for x in X:\n",
    "        print(x, perceptron.predict(x))\n",
    "        \n",
    "    print(\"Accuracy:\", perceptron.score(X, y))"
   ]
  },
  {
   "cell_type": "code",
   "execution_count": null,
   "id": "f4a9e4d4-a991-44c4-aa6b-5b5d166d3e60",
   "metadata": {},
   "outputs": [],
   "source": []
  }
 ],
 "metadata": {
  "kernelspec": {
   "display_name": "Python 3 (ipykernel)",
   "language": "python",
   "name": "python3"
  },
  "language_info": {
   "codemirror_mode": {
    "name": "ipython",
    "version": 3
   },
   "file_extension": ".py",
   "mimetype": "text/x-python",
   "name": "python",
   "nbconvert_exporter": "python",
   "pygments_lexer": "ipython3",
   "version": "3.13.5"
  }
 },
 "nbformat": 4,
 "nbformat_minor": 5
}
